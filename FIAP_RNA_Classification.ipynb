{
  "nbformat": 4,
  "nbformat_minor": 0,
  "metadata": {
    "colab": {
      "name": "FIAP - RNA Classification.ipynb",
      "provenance": [],
      "collapsed_sections": [],
      "authorship_tag": "ABX9TyPKKy+kneQhIXqnXandzxNK",
      "include_colab_link": true
    },
    "kernelspec": {
      "name": "python3",
      "display_name": "Python 3"
    },
    "language_info": {
      "name": "python"
    }
  },
  "cells": [
    {
      "cell_type": "markdown",
      "metadata": {
        "id": "view-in-github",
        "colab_type": "text"
      },
      "source": [
        "<a href=\"https://colab.research.google.com/github/al-lla/RNA_MLP_YieldCurveForecast/blob/main/FIAP_RNA_Classification.ipynb\" target=\"_parent\"><img src=\"https://colab.research.google.com/assets/colab-badge.svg\" alt=\"Open In Colab\"/></a>"
      ]
    },
    {
      "cell_type": "markdown",
      "source": [
        "<img src = 'https://www.sejabixo.com.br/wp-content/uploads/2021/11/vestibular-fiap-2022-1.jpg' width = '300'>\n",
        "\n",
        "# Rede Neural Artificial: Classificação"
      ],
      "metadata": {
        "id": "PmLjbqZ47gK_"
      }
    },
    {
      "cell_type": "markdown",
      "source": [
        "# Reconhecimento de Imagens"
      ],
      "metadata": {
        "id": "VFUFEsvT8Mjo"
      }
    },
    {
      "cell_type": "markdown",
      "source": [
        "As Redes Neurais possuem grande aplicação em problemas de _classificação de imagem_, isto é, a partir do treinamento de uma rede com um conjunto de imagens, é possível obter um modelo que receba imagens como input e classifique o conteúdo da imagem."
      ],
      "metadata": {
        "id": "t7eYKNoC8MXH"
      }
    },
    {
      "cell_type": "code",
      "execution_count": null,
      "metadata": {
        "id": "OPjWWuSz7daY"
      },
      "outputs": [],
      "source": [
        ""
      ]
    },
    {
      "cell_type": "markdown",
      "source": [
        "# Bibliotecas"
      ],
      "metadata": {
        "id": "Hq6Ii0zx_bOy"
      }
    },
    {
      "cell_type": "code",
      "source": [
        "# Manipulação de dados\n",
        "import numpy as np\n",
        "import pandas as pd\n",
        "\n",
        "# Gráficos\n",
        "import matplotlib.pyplot as plt\n",
        "import matplotlib.cm as cm\n",
        "import seaborn as sns\n",
        "\n",
        "# Modelagem\n",
        "import tensorflow as tf\n",
        "from tensorflow import keras\n",
        "from tensorflow.keras import layers"
      ],
      "metadata": {
        "id": "vS94lqBO_dDW"
      },
      "execution_count": 1,
      "outputs": []
    },
    {
      "cell_type": "markdown",
      "source": [
        "# Base de dados"
      ],
      "metadata": {
        "id": "hMFYKBHH-IzT"
      }
    },
    {
      "cell_type": "markdown",
      "source": [
        "Para entender o funcionamento de uma Rede Neural para classificação de imagens, utilizaremos uma base clássifca presente no pacote TensorFlow.\n",
        "\n",
        "Utilizaremos a base de dados [mnist](https://www.tensorflow.org/datasets/catalog/mnist) de autoria de Yann LeCun, Corinna Cortes e CJ Burges.\n",
        "\n",
        "A base conta com 70.000 observações de números de 0 a 9 manuescritos e um label indicando o número escrito."
      ],
      "metadata": {
        "id": "1U0RZBlT_U_m"
      }
    },
    {
      "cell_type": "code",
      "source": [
        "# Baixar base de dados e alocar em vetores \n",
        "(x_train, y_train), (x_test, y_test) = keras.datasets.mnist.load_data()"
      ],
      "metadata": {
        "colab": {
          "base_uri": "https://localhost:8080/"
        },
        "id": "lydMHL2d_USy",
        "outputId": "f52c2d7e-2f53-4071-fcc2-5b79a6354bc1"
      },
      "execution_count": 2,
      "outputs": [
        {
          "output_type": "stream",
          "name": "stdout",
          "text": [
            "Downloading data from https://storage.googleapis.com/tensorflow/tf-keras-datasets/mnist.npz\n",
            "11493376/11490434 [==============================] - 0s 0us/step\n",
            "11501568/11490434 [==============================] - 0s 0us/step\n"
          ]
        }
      ]
    },
    {
      "cell_type": "code",
      "source": [
        "# Observações\n",
        "print(f'O número de observações da base de treino é {len(y_train)}.')\n",
        "\n",
        "# Histograma\n",
        "plt.hist(y_train);"
      ],
      "metadata": {
        "colab": {
          "base_uri": "https://localhost:8080/",
          "height": 284
        },
        "id": "gOQAcqDd_9mN",
        "outputId": "85015dcb-d41b-42c4-8872-a8ebab13b8d6"
      },
      "execution_count": 17,
      "outputs": [
        {
          "output_type": "stream",
          "name": "stdout",
          "text": [
            "O número de observações da base de treino é 60000.\n"
          ]
        },
        {
          "output_type": "display_data",
          "data": {
            "text/plain": [
              "<Figure size 432x288 with 1 Axes>"
            ],
            "image/png": "[encoded data removed]"
          },
          "metadata": {
            "needs_background": "light"
          }
        }
      ]
    },
    {
      "cell_type": "code",
      "source": [
        "# Observações\n",
        "print(f'O número de observações da base de teste é {len(y_test)}.')\n",
        "\n",
        "# Histograma\n",
        "plt.hist(y_test);"
      ],
      "metadata": {
        "colab": {
          "base_uri": "https://localhost:8080/",
          "height": 282
        },
        "id": "gxQn1LINm2KK",
        "outputId": "e7a16e54-aa4c-41a4-be63-d761abd1a57f"
      },
      "execution_count": 18,
      "outputs": [
        {
          "output_type": "stream",
          "name": "stdout",
          "text": [
            "O número de observações da base de teste é 10000.\n"
          ]
        },
        {
          "output_type": "display_data",
          "data": {
            "text/plain": [
              "<Figure size 432x288 with 1 Axes>"
            ],
            "image/png": "[encoded data removed]"
          },
          "metadata": {
            "needs_background": "light"
          }
        }
      ]
    },
    {
      "cell_type": "markdown",
      "source": [
        "## Transformando uma imagem em base de dados"
      ],
      "metadata": {
        "id": "-oLEewattBW7"
      }
    },
    {
      "cell_type": "markdown",
      "source": [
        "Uma imagem é formada por pixels, um pequeno quadrado que é pintado com uma cor e, ao juntar diferentes pixels, em sequência, a imagem é formada.\n",
        "\n",
        "Caso a quantidade de pixels seja pequena, é possível ver os diferentes quadrados que formam uma imagem, mas, em uma grande quantidade de pixels, a imagem aparenta ser algo uniforme.\n",
        "\n",
        "Dentro do sistema de cores RGB, cada cor específica possui um conjunto de 3 valores que formam uma única cor. Assim, esse conjunto de números pode ser organizado para formar uma tabela de _features_."
      ],
      "metadata": {
        "id": "pCkI2nZUuYBZ"
      }
    },
    {
      "cell_type": "markdown",
      "source": [
        "Dentro da base que iremos utilizar nesse notebook, as imagens estão em preto e branco, assim, cada cor pode ser definida com apenas um parâmetro que varia entre 0 (preto) e 255 (branco).\n",
        "\n",
        "As imagens utilizadas possuem 28px por 28px. Assim, cada número é representado por um conjunto de 28 * 28 = 784 números.\n",
        "\n"
      ],
      "metadata": {
        "id": "B4WpDFniuj22"
      }
    },
    {
      "cell_type": "code",
      "source": [
        "# Desenho da imagem a partir da base de dados\n",
        "plt.figure(figsize = (5, 7));\n",
        "plt.imshow(x_train[0], cmap = plt.get_cmap('gray'));\n",
        "plt.title(y_train[0]);"
      ],
      "metadata": {
        "colab": {
          "base_uri": "https://localhost:8080/",
          "height": 343
        },
        "id": "Sa7EL-ZPquup",
        "outputId": "ae8178c3-06ba-469c-ce9e-51744110482e"
      },
      "execution_count": 45,
      "outputs": [
        {
          "output_type": "display_data",
          "data": {
            "text/plain": [
              "<Figure size 360x504 with 1 Axes>"
            ],
            "image/png": "[encoded data removed]"
          },
          "metadata": {
            "needs_background": "light"
          }
        }
      ]
    },
    {
      "cell_type": "code",
      "source": [
        "# Loop para as primeiras 9 observações\n",
        "plt.figure(figsize = (5, 7))\n",
        "for i in range(9):\n",
        "    plt.subplot(331 + i)\n",
        "    plt.imshow(x_train[i], cmap = plt.get_cmap('gray'))\n",
        "    plt.title(y_train[i])"
      ],
      "metadata": {
        "colab": {
          "base_uri": "https://localhost:8080/",
          "height": 415
        },
        "id": "jFI0BunsrOIc",
        "outputId": "5fb24a1f-a980-4d58-b507-1e61764ec98f"
      },
      "execution_count": 46,
      "outputs": [
        {
          "output_type": "display_data",
          "data": {
            "text/plain": [
              "<Figure size 360x504 with 9 Axes>"
            ],
            "image/png": "[encoded data removed]"
          },
          "metadata": {
            "needs_background": "light"
          }
        }
      ]
    },
    {
      "cell_type": "markdown",
      "source": [
        "## Criação das variáveis dummies para target"
      ],
      "metadata": {
        "id": "IjgNm5Rs2-3u"
      }
    },
    {
      "cell_type": "code",
      "source": [
        "# A função np_utils cria variáveis dummies a parte de uma variável categórica\n",
        "from keras.utils import np_utils\n",
        "\n",
        "# Criação das variáveis dummy\n",
        "y_train = np_utils.to_categorical(y_train, 10)\n",
        "y_test = np_utils.to_categorical(y_test, 10)"
      ],
      "metadata": {
        "id": "rfNBmtQY3DTz"
      },
      "execution_count": 54,
      "outputs": []
    },
    {
      "cell_type": "markdown",
      "source": [
        "# Definição da Rede Neural"
      ],
      "metadata": {
        "id": "1wFsd4qFyc6z"
      }
    },
    {
      "cell_type": "markdown",
      "source": [
        "Treinaremos uma Rede com uma camada oculta de 4 neurônios.\n",
        "\n",
        "Como temos um modelo multi-categórico (_target_ é categórico variando de 0 a 9), utilizaremos a função de ativação `sigmoid` e a função de perda `categorial cross entropy` para a camada de _output_."
      ],
      "metadata": {
        "id": "3p-i31X6ymos"
      }
    },
    {
      "cell_type": "code",
      "source": [
        "model = keras.Sequential()\n",
        "\n",
        "# Camada Input\n",
        "model.add(\n",
        "    layers.Flatten(input_shape = x_train.shape[1:])\n",
        "    )\n",
        "\n",
        "# Camada Oculta\n",
        "model.add(layers.Dense(4, # neurônios na camada oculta\n",
        "                       activation = 'relu', # função de ativação relu\n",
        "                       kernel_regularizer = keras.regularizers.l1_l2() # adicionar regularização l1 e l2\n",
        "                       )\n",
        ")\n",
        "\n",
        "model.add(layers.Dropout(0.10)) # adicionar dropout\n",
        "\n",
        "# Camada Output\n",
        "model.add(layers.Dense(10, # neurônios na camada de output\n",
        "                       activation = 'sigmoid' # função de ativação sigmoid\n",
        "                       )\n",
        ")\n",
        "\n",
        "model.compile(loss = 'categorical_crossentropy', # função de perda\n",
        "              optimizer = keras.optimizers.Adam(), # algoritmo de otimização\n",
        "              metrics = [keras.metrics.CategoricalAccuracy()] # métricas de acerto\n",
        "             )\n",
        "\n",
        "model.summary()"
      ],
      "metadata": {
        "colab": {
          "base_uri": "https://localhost:8080/"
        },
        "id": "BBFfsRtHqSea",
        "outputId": "896d1f44-a20d-4c73-c760-453a2d08faba"
      },
      "execution_count": 82,
      "outputs": [
        {
          "output_type": "stream",
          "name": "stdout",
          "text": [
            "Model: \"sequential_2\"\n",
            "_________________________________________________________________\n",
            " Layer (type)                Output Shape              Param #   \n",
            "=================================================================\n",
            " flatten_2 (Flatten)         (None, 784)               0         \n",
            "                                                                 \n",
            " dense_4 (Dense)             (None, 4)                 3140      \n",
            "                                                                 \n",
            " dropout_2 (Dropout)         (None, 4)                 0         \n",
            "                                                                 \n",
            " dense_5 (Dense)             (None, 10)                50        \n",
            "                                                                 \n",
            "=================================================================\n",
            "Total params: 3,190\n",
            "Trainable params: 3,190\n",
            "Non-trainable params: 0\n",
            "_________________________________________________________________\n"
          ]
        }
      ]
    },
    {
      "cell_type": "markdown",
      "source": [
        "Ao definir a estrutura da rede, é possível observar o número de parâmetros da rede. Mesmo em uma rede relativamente simples, o número de parâmetros a ser treinados pode ser muito grande, trazendo a necessidade de _big data_ e o conceito de _deep learning_."
      ],
      "metadata": {
        "id": "jWa8zBq50NUS"
      }
    },
    {
      "cell_type": "code",
      "source": [
        "# Avaliação do Modelo RNA MLP antes do treinamento\n",
        "score = model.evaluate(x_test, y_test, verbose = 0)\n",
        "accuracy = 100 * score[1]\n",
        "print('Acurácia no conjunto de Teste: %.2f%%' % accuracy)"
      ],
      "metadata": {
        "colab": {
          "base_uri": "https://localhost:8080/"
        },
        "id": "8avMzemCyl2C",
        "outputId": "c5bf55b1-fb1e-4881-af59-bedb1daa7014"
      },
      "execution_count": 83,
      "outputs": [
        {
          "output_type": "stream",
          "name": "stdout",
          "text": [
            "Acurácia no conjunto de Teste: 7.86%\n"
          ]
        }
      ]
    },
    {
      "cell_type": "markdown",
      "source": [
        "Antes de realizar o treinamento dos pesos sinápticos, é possível obter uma acurácia de 8,32% com o modelo.\n",
        "\n",
        "Comparativamente, esse valor é menor do que a escolha pelo acaso (1/10 = 10%)."
      ],
      "metadata": {
        "id": "R9HHR1Tk4CPl"
      }
    },
    {
      "cell_type": "markdown",
      "source": [
        "# Treinamento da RNA"
      ],
      "metadata": {
        "id": "HnAgUkZb4X2f"
      }
    },
    {
      "cell_type": "code",
      "source": [
        "# definição de variável para que o modelo pare o treinamento\n",
        "# o parâmetro patience define quantas tentativas sem melhora da métrica de erro o modelo aceita antes de parar\n",
        "callback = keras.callbacks.EarlyStopping(monitor = 'val_loss', \n",
        "                                         patience = 10\n",
        "                                        )\n",
        "# o modelo é treinado pela função fit e seu resultado é armazenado na variável historico\n",
        "historico = model.fit(x = x_train, \n",
        "                      y = y_train,\n",
        "                      epochs = 50, # quantidade máxima de loops\n",
        "                      batch_size = 256,\n",
        "                      validation_split = 0.1,\n",
        "                      verbose = 1, # processo de treinamento é exibido\n",
        "                      callbacks = callback)"
      ],
      "metadata": {
        "colab": {
          "base_uri": "https://localhost:8080/"
        },
        "id": "fAtKIXOk1GWT",
        "outputId": "c9baf58d-4758-48e5-d0a3-ae51cdb0a147"
      },
      "execution_count": 84,
      "outputs": [
        {
          "output_type": "stream",
          "name": "stdout",
          "text": [
            "Epoch 1/50\n",
            "211/211 [==============================] - 5s 15ms/step - loss: 3.5656 - categorical_accuracy: 0.1122 - val_loss: 3.0102 - val_categorical_accuracy: 0.1052\n",
            "Epoch 2/50\n",
            "211/211 [==============================] - 3s 15ms/step - loss: 2.9111 - categorical_accuracy: 0.1132 - val_loss: 2.8258 - val_categorical_accuracy: 0.1052\n",
            "Epoch 3/50\n",
            "211/211 [==============================] - 3s 14ms/step - loss: 2.7636 - categorical_accuracy: 0.1132 - val_loss: 2.7100 - val_categorical_accuracy: 0.1050\n",
            "Epoch 4/50\n",
            "211/211 [==============================] - 4s 20ms/step - loss: 2.6284 - categorical_accuracy: 0.1365 - val_loss: 2.4527 - val_categorical_accuracy: 0.2025\n",
            "Epoch 5/50\n",
            "211/211 [==============================] - 3s 14ms/step - loss: 2.3991 - categorical_accuracy: 0.1954 - val_loss: 2.2202 - val_categorical_accuracy: 0.2695\n",
            "Epoch 6/50\n",
            "211/211 [==============================] - 3s 14ms/step - loss: 2.1925 - categorical_accuracy: 0.2682 - val_loss: 2.0196 - val_categorical_accuracy: 0.3183\n",
            "Epoch 7/50\n",
            "211/211 [==============================] - 3s 13ms/step - loss: 2.0386 - categorical_accuracy: 0.2946 - val_loss: 1.9227 - val_categorical_accuracy: 0.3352\n",
            "Epoch 8/50\n",
            "211/211 [==============================] - 3s 12ms/step - loss: 1.9407 - categorical_accuracy: 0.3081 - val_loss: 1.7832 - val_categorical_accuracy: 0.3515\n",
            "Epoch 9/50\n",
            "211/211 [==============================] - 3s 14ms/step - loss: 1.8486 - categorical_accuracy: 0.3183 - val_loss: 1.7418 - val_categorical_accuracy: 0.3733\n",
            "Epoch 10/50\n",
            "211/211 [==============================] - 3s 15ms/step - loss: 1.8067 - categorical_accuracy: 0.3204 - val_loss: 1.6724 - val_categorical_accuracy: 0.3675\n",
            "Epoch 11/50\n",
            "211/211 [==============================] - 3s 14ms/step - loss: 1.7578 - categorical_accuracy: 0.3255 - val_loss: 1.6181 - val_categorical_accuracy: 0.3640\n",
            "Epoch 12/50\n",
            "211/211 [==============================] - 3s 14ms/step - loss: 1.7347 - categorical_accuracy: 0.3264 - val_loss: 1.6037 - val_categorical_accuracy: 0.3803\n",
            "Epoch 13/50\n",
            "211/211 [==============================] - 4s 20ms/step - loss: 1.7039 - categorical_accuracy: 0.3355 - val_loss: 1.5978 - val_categorical_accuracy: 0.3858\n",
            "Epoch 14/50\n",
            "211/211 [==============================] - 3s 14ms/step - loss: 1.7114 - categorical_accuracy: 0.3449 - val_loss: 1.5654 - val_categorical_accuracy: 0.3912\n",
            "Epoch 15/50\n",
            "211/211 [==============================] - 3s 14ms/step - loss: 1.6579 - categorical_accuracy: 0.3653 - val_loss: 1.4894 - val_categorical_accuracy: 0.4125\n",
            "Epoch 16/50\n",
            "211/211 [==============================] - 3s 14ms/step - loss: 1.6489 - categorical_accuracy: 0.3911 - val_loss: 1.5095 - val_categorical_accuracy: 0.4790\n",
            "Epoch 17/50\n",
            "211/211 [==============================] - 3s 13ms/step - loss: 1.6623 - categorical_accuracy: 0.4323 - val_loss: 1.3705 - val_categorical_accuracy: 0.5525\n",
            "Epoch 18/50\n",
            "211/211 [==============================] - 3s 14ms/step - loss: 1.5367 - categorical_accuracy: 0.4892 - val_loss: 1.2731 - val_categorical_accuracy: 0.5832\n",
            "Epoch 19/50\n",
            "211/211 [==============================] - 3s 16ms/step - loss: 1.4597 - categorical_accuracy: 0.5184 - val_loss: 1.1640 - val_categorical_accuracy: 0.6248\n",
            "Epoch 20/50\n",
            "211/211 [==============================] - 3s 14ms/step - loss: 1.3887 - categorical_accuracy: 0.5426 - val_loss: 1.1205 - val_categorical_accuracy: 0.6578\n",
            "Epoch 21/50\n",
            "211/211 [==============================] - 3s 16ms/step - loss: 1.3552 - categorical_accuracy: 0.5515 - val_loss: 1.0839 - val_categorical_accuracy: 0.6540\n",
            "Epoch 22/50\n",
            "211/211 [==============================] - 3s 13ms/step - loss: 1.3105 - categorical_accuracy: 0.5592 - val_loss: 1.0595 - val_categorical_accuracy: 0.6752\n",
            "Epoch 23/50\n",
            "211/211 [==============================] - 3s 12ms/step - loss: 1.3180 - categorical_accuracy: 0.5627 - val_loss: 1.0531 - val_categorical_accuracy: 0.6822\n",
            "Epoch 24/50\n",
            "211/211 [==============================] - 3s 14ms/step - loss: 1.3281 - categorical_accuracy: 0.5741 - val_loss: 1.0227 - val_categorical_accuracy: 0.7112\n",
            "Epoch 25/50\n",
            "211/211 [==============================] - 3s 15ms/step - loss: 1.2838 - categorical_accuracy: 0.5900 - val_loss: 1.0007 - val_categorical_accuracy: 0.7115\n",
            "Epoch 26/50\n",
            "211/211 [==============================] - 4s 17ms/step - loss: 1.2673 - categorical_accuracy: 0.5927 - val_loss: 0.9863 - val_categorical_accuracy: 0.7150\n",
            "Epoch 27/50\n",
            "211/211 [==============================] - 3s 14ms/step - loss: 1.2553 - categorical_accuracy: 0.5937 - val_loss: 0.9836 - val_categorical_accuracy: 0.7142\n",
            "Epoch 28/50\n",
            "211/211 [==============================] - 3s 14ms/step - loss: 1.2486 - categorical_accuracy: 0.6158 - val_loss: 0.9477 - val_categorical_accuracy: 0.7655\n",
            "Epoch 29/50\n",
            "211/211 [==============================] - 3s 15ms/step - loss: 1.2037 - categorical_accuracy: 0.6637 - val_loss: 0.8618 - val_categorical_accuracy: 0.8093\n",
            "Epoch 30/50\n",
            "211/211 [==============================] - 3s 16ms/step - loss: 1.1315 - categorical_accuracy: 0.6772 - val_loss: 0.8509 - val_categorical_accuracy: 0.7957\n",
            "Epoch 31/50\n",
            "211/211 [==============================] - 3s 16ms/step - loss: 1.1005 - categorical_accuracy: 0.6853 - val_loss: 0.7924 - val_categorical_accuracy: 0.8185\n",
            "Epoch 32/50\n",
            "211/211 [==============================] - 3s 15ms/step - loss: 1.0587 - categorical_accuracy: 0.7048 - val_loss: 0.7457 - val_categorical_accuracy: 0.8378\n",
            "Epoch 33/50\n",
            "211/211 [==============================] - 3s 16ms/step - loss: 1.0515 - categorical_accuracy: 0.7086 - val_loss: 0.7382 - val_categorical_accuracy: 0.8308\n",
            "Epoch 34/50\n",
            "211/211 [==============================] - 4s 17ms/step - loss: 1.0435 - categorical_accuracy: 0.7101 - val_loss: 0.7467 - val_categorical_accuracy: 0.8375\n",
            "Epoch 35/50\n",
            "211/211 [==============================] - 3s 14ms/step - loss: 1.0481 - categorical_accuracy: 0.7080 - val_loss: 0.7584 - val_categorical_accuracy: 0.8193\n",
            "Epoch 36/50\n",
            "211/211 [==============================] - 4s 20ms/step - loss: 1.0487 - categorical_accuracy: 0.7090 - val_loss: 0.7455 - val_categorical_accuracy: 0.8287\n",
            "Epoch 37/50\n",
            "211/211 [==============================] - 3s 16ms/step - loss: 1.0473 - categorical_accuracy: 0.7091 - val_loss: 0.7428 - val_categorical_accuracy: 0.8407\n",
            "Epoch 38/50\n",
            "211/211 [==============================] - 3s 16ms/step - loss: 1.0374 - categorical_accuracy: 0.7122 - val_loss: 0.7327 - val_categorical_accuracy: 0.8282\n",
            "Epoch 39/50\n",
            "211/211 [==============================] - 3s 16ms/step - loss: 1.0415 - categorical_accuracy: 0.7107 - val_loss: 0.7270 - val_categorical_accuracy: 0.8330\n",
            "Epoch 40/50\n",
            "211/211 [==============================] - 3s 15ms/step - loss: 1.0463 - categorical_accuracy: 0.7095 - val_loss: 0.7594 - val_categorical_accuracy: 0.8242\n",
            "Epoch 41/50\n",
            "211/211 [==============================] - 3s 15ms/step - loss: 1.0334 - categorical_accuracy: 0.7113 - val_loss: 0.7499 - val_categorical_accuracy: 0.8345\n",
            "Epoch 42/50\n",
            "211/211 [==============================] - 3s 15ms/step - loss: 1.0516 - categorical_accuracy: 0.7064 - val_loss: 0.8315 - val_categorical_accuracy: 0.7890\n",
            "Epoch 43/50\n",
            "211/211 [==============================] - 4s 17ms/step - loss: 1.0383 - categorical_accuracy: 0.7122 - val_loss: 0.7287 - val_categorical_accuracy: 0.8288\n",
            "Epoch 44/50\n",
            "211/211 [==============================] - 4s 19ms/step - loss: 1.0428 - categorical_accuracy: 0.7092 - val_loss: 0.7450 - val_categorical_accuracy: 0.8273\n",
            "Epoch 45/50\n",
            "211/211 [==============================] - 3s 15ms/step - loss: 1.0374 - categorical_accuracy: 0.7109 - val_loss: 0.7471 - val_categorical_accuracy: 0.8262\n",
            "Epoch 46/50\n",
            "211/211 [==============================] - 3s 15ms/step - loss: 1.0475 - categorical_accuracy: 0.7096 - val_loss: 0.7509 - val_categorical_accuracy: 0.8400\n",
            "Epoch 47/50\n",
            "211/211 [==============================] - 3s 16ms/step - loss: 1.0400 - categorical_accuracy: 0.7104 - val_loss: 0.7446 - val_categorical_accuracy: 0.8410\n",
            "Epoch 48/50\n",
            "211/211 [==============================] - 3s 15ms/step - loss: 1.0500 - categorical_accuracy: 0.7059 - val_loss: 0.7273 - val_categorical_accuracy: 0.8300\n",
            "Epoch 49/50\n",
            "211/211 [==============================] - 3s 14ms/step - loss: 1.0350 - categorical_accuracy: 0.7123 - val_loss: 0.7317 - val_categorical_accuracy: 0.8393\n"
          ]
        }
      ]
    },
    {
      "cell_type": "code",
      "source": [
        "score_train, metric_train = model.evaluate(x_train, y_train, verbose = 0)\n",
        "score_test, metric_test = model.evaluate(x_test, y_test, verbose = 0)\n",
        "\n",
        "print('Desempenho no conjunto de Treino: {:.2%}'.format(metric_train))\n",
        "print('Desempenho no conjunto de Teste: {:.2%}'.format(metric_test))"
      ],
      "metadata": {
        "colab": {
          "base_uri": "https://localhost:8080/"
        },
        "id": "_barUBhx4415",
        "outputId": "7e5fc080-2ca0-4721-aec7-89907c9815ac"
      },
      "execution_count": 85,
      "outputs": [
        {
          "output_type": "stream",
          "name": "stdout",
          "text": [
            "Desempenho no conjunto de Treino: 81.44%\n",
            "Desempenho no conjunto de Teste: 81.24%\n"
          ]
        }
      ]
    },
    {
      "cell_type": "markdown",
      "source": [
        "Após o treino, é possível ver uma mudança substancial no desempenho do modelo.\n",
        "\n",
        "<br>\n",
        "\n",
        "Contudo, também é possível observar como foi o processo de treinamento dos parâmetros da rede ao longo das épocas."
      ],
      "metadata": {
        "id": "HEB_wDmM_fEU"
      }
    },
    {
      "cell_type": "code",
      "source": [
        "# dentro da variável historico criada, temos o dicionário history\n",
        "historico.history.keys()"
      ],
      "metadata": {
        "colab": {
          "base_uri": "https://localhost:8080/"
        },
        "id": "so5VvcYk7kOg",
        "outputId": "34e89be7-a5ed-4a2b-e344-99dd7171d108"
      },
      "execution_count": 87,
      "outputs": [
        {
          "output_type": "execute_result",
          "data": {
            "text/plain": [
              "dict_keys(['loss', 'categorical_accuracy', 'val_loss', 'val_categorical_accuracy'])"
            ]
          },
          "metadata": {},
          "execution_count": 87
        }
      ]
    },
    {
      "cell_type": "code",
      "source": [
        "# Gráfico com a evolução do treinamento\n",
        "fig, ax = plt.subplots(figsize = (8, 8)) # definir tamanho da imagem\n",
        "ax.set_ylim([0, 1]) # eixo y variando entre 0 e 1\n",
        "\n",
        "plt.plot(historico.history['categorical_accuracy']) # métrica de acerto durante o treino\n",
        "plt.plot(historico.history['val_categorical_accuracy']) # métrica de acerto durante o teste\n",
        "\n",
        "plt.legend(['Treino', 'Teste'], loc='upper left') # adicionar legenda\n",
        "\n",
        "plt.title('Desempenho do Modelo') # título\n",
        "plt.xlabel('Épocas') # label do eixo x\n",
        "plt.ylabel('Acurácia') # label do eixo y\n",
        "\n",
        "plt.show()"
      ],
      "metadata": {
        "colab": {
          "base_uri": "https://localhost:8080/",
          "height": 515
        },
        "id": "ZAViT3tl5Ymd",
        "outputId": "e65dcc6c-6296-422a-cd8d-33631b49f065"
      },
      "execution_count": 86,
      "outputs": [
        {
          "output_type": "display_data",
          "data": {
            "text/plain": [
              "<Figure size 576x576 with 1 Axes>"
            ],
            "image/png": "[encoded data removed]"
          },
          "metadata": {
            "needs_background": "light"
          }
        }
      ]
    },
    {
      "cell_type": "markdown",
      "source": [
        "Ao observar o desempenho do modelo ao longo do processo de treinamento, é possível observar que\n",
        "\n",
        "1.  A acurácia de treino foi inferior a acurácia de teste, o que pode indicar _underfitting_\n",
        "2. A distância entre a curva de treino e teste não é pequena, sendo um possível indicador de que o parâmetro de `patience` pode ser alterado"
      ],
      "metadata": {
        "id": "aW_8qhN8Ablo"
      }
    },
    {
      "cell_type": "code",
      "source": [
        ""
      ],
      "metadata": {
        "id": "c4wpTTlMAbMU"
      },
      "execution_count": null,
      "outputs": []
    },
    {
      "cell_type": "code",
      "source": [
        ""
      ],
      "metadata": {
        "id": "i_533BKE7Yk-"
      },
      "execution_count": null,
      "outputs": []
    }
  ]
}